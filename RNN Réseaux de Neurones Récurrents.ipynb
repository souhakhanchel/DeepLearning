{
 "cells": [
  {
   "cell_type": "markdown",
   "id": "bf11f44a",
   "metadata": {},
   "source": [
    "# TP4 Réalisé par Rim Ben Abdeljelil - Souha Khanchel"
   ]
  },
  {
   "cell_type": "code",
   "execution_count": 1,
   "id": "acb1f09b",
   "metadata": {},
   "outputs": [],
   "source": [
    "import pandas as pd\n",
    "import numpy as np\n",
    "import re\n",
    "import nltk\n",
    "from keras.layers import Embedding , GRU\n",
    "from nltk.corpus import stopwords\n",
    "from numpy import array\n",
    "from keras.preprocessing.text import one_hot\n",
    "from keras_preprocessing.sequence import pad_sequences\n",
    "from keras.models import Sequential\n",
    "from keras.layers.core import Activation, Dropout, Dense\n",
    "from keras.layers import Flatten\n",
    "from keras.layers import Conv1D\n",
    "from keras.layers import GlobalMaxPooling1D\n",
    "from keras.layers import LSTM\n",
    "from keras.layers import Embedding\n",
    "from sklearn.model_selection import train_test_split\n",
    "from keras.preprocessing.text import Tokenizer\n",
    "from keras.layers import GlobalMaxPooling1D, MaxPooling1D"
   ]
  },
  {
   "cell_type": "code",
   "execution_count": 2,
   "id": "9d1dc407",
   "metadata": {},
   "outputs": [
    {
     "name": "stdout",
     "output_type": "stream",
     "text": [
      "Dataframe shape:  (50000, 2)\n"
     ]
    }
   ],
   "source": [
    "movie_reviews = pd.read_csv('IMDB Dataset.csv')\n",
    "print('Dataframe shape: ', movie_reviews.shape)"
   ]
  },
  {
   "cell_type": "code",
   "execution_count": 3,
   "id": "d2b58d1a",
   "metadata": {},
   "outputs": [
    {
     "name": "stdout",
     "output_type": "stream",
     "text": [
      "review       0\n",
      "sentiment    0\n",
      "dtype: int64\n"
     ]
    }
   ],
   "source": [
    "print(movie_reviews.isnull().sum())"
   ]
  },
  {
   "cell_type": "code",
   "execution_count": 4,
   "id": "431aef1d",
   "metadata": {},
   "outputs": [
    {
     "name": "stdout",
     "output_type": "stream",
     "text": [
      "                                              review sentiment\n",
      "0  One of the other reviewers has mentioned that ...  positive\n",
      "1  A wonderful little production. <br /><br />The...  positive\n",
      "2  I thought this was a wonderful way to spend ti...  positive\n",
      "3  Basically there's a family where a little boy ...  negative\n",
      "4  Petter Mattei's \"Love in the Time of Money\" is...  positive\n"
     ]
    }
   ],
   "source": [
    "print(movie_reviews.head())"
   ]
  },
  {
   "cell_type": "code",
   "execution_count": 5,
   "id": "fb71c2b6",
   "metadata": {},
   "outputs": [
    {
     "data": {
      "image/png": "[encoded data removed]",
      "text/plain": [
       "<Figure size 640x480 with 1 Axes>"
      ]
     },
     "metadata": {},
     "output_type": "display_data"
    }
   ],
   "source": [
    "import seaborn as sns\n",
    "import matplotlib.pyplot as plt\n",
    "# Compter le nombre d'occurrences de chaque classe\n",
    "counts = movie_reviews['sentiment'].value_counts()\n",
    "\n",
    "# Tracer un graphique à barres pour chaque classe\n",
    "sns.countplot(x='sentiment', data=movie_reviews)\n",
    "\n",
    "plt.xlabel('sentiment')\n",
    "plt.ylabel('Nombre d\\'occurrences')\n",
    "plt.title('Distribution des classes dans le dataset')\n",
    "\n",
    "# Afficher le graphique\n",
    "plt.show()"
   ]
  },
  {
   "cell_type": "raw",
   "id": "82f30fdb",
   "metadata": {},
   "source": [
    "On remarque que le dataset est bien équilibré."
   ]
  },
  {
   "cell_type": "code",
   "execution_count": 6,
   "id": "a10de0e2",
   "metadata": {},
   "outputs": [
    {
     "name": "stdout",
     "output_type": "stream",
     "text": [
      "4ème revue :\n",
      " Basically there's a family where a little boy (Jake) thinks there's a zombie in his closet & his parents are fighting all the time.<br /><br />This movie is slower than a soap opera... and suddenly, Jake decides to become Rambo and kill the zombie.<br /><br />OK, first of all when you're going to make a film you must Decide if its a thriller or a drama! As a drama the movie is watchable. Parents are divorcing & arguing like in real life. And then we have Jake with his closet which totally ruins all the film! I expected to see a BOOGEYMAN similar movie, and instead i watched a drama with some meaningless thriller spots.<br /><br />3 out of 10 just for the well playing parents & descent dialogs. As for the shots with Jake: just ignore them.\n",
      "Sentiment de la 4ème revue : negative\n"
     ]
    }
   ],
   "source": [
    "print(\"4ème revue :\\n\", movie_reviews['review'][3])\n",
    "\n",
    "# Imprimer la valeur de sentiment correspondante\n",
    "print(\"Sentiment de la 4ème revue :\", movie_reviews['sentiment'][3])"
   ]
  },
  {
   "cell_type": "raw",
   "id": "8e03721e",
   "metadata": {},
   "source": [
    "La présence de balises HTML et d autres caractères non alphabétiques dans la revue montre qu elle n'a pas été nettoyée et prétraitée. Avant de l'utiliser pour l'analyse ou la modélisation, il est nécessaire d'effectuer un nettoyage des données pour supprimer les balises, les caractères spéciaux, les espaces inutiles et les stopwords, et pour normaliser le texte en minuscules par exemple."
   ]
  },
  {
   "cell_type": "code",
   "execution_count": 4,
   "id": "6a031fde",
   "metadata": {},
   "outputs": [],
   "source": [
    "def preprocess_text(sen):\n",
    "    # Removing html tags\n",
    "    sentence = remove_tags(sen)\n",
    "    # Remove punctuations and numbers\n",
    "    sentence = re.sub('[^a-zA-Z]', ' ', sentence)\n",
    "    # Single character removal\n",
    "    sentence = re.sub(r\"\\s+[a-zA-Z]\\s+\", ' ', sentence)\n",
    "    # Removing multiple spaces\n",
    "    sentence = re.sub(r'\\s+', ' ', sentence)\n",
    "    return sentence\n",
    "TAG_RE = re.compile(r'<[^>]+>')\n",
    "def remove_tags(text):\n",
    "    return TAG_RE.sub('', text)"
   ]
  },
  {
   "cell_type": "raw",
   "id": "67baf64d",
   "metadata": {},
   "source": [
    "Le code est une fonction de prétraitement de texte appelée \"preprocess_text\" qui prend une chaîne de caractères en entrée (sen) et applique plusieurs étapes de nettoyage de texte. La première étape consiste à supprimer toutes les balises HTML en appelant une autre fonction appelée \"remove_tags\" qui utilise une expression régulière pour supprimer toutes les balises. Ensuite, la fonction \"sub\" de la bibliothèque \"re\" est utilisée pour remplacer tous les caractères non alphabétiques (par exemple, les ponctuations et les chiffres) par un espace. Ensuite, une autre expression régulière est utilisée pour supprimer tous les caractères alphabétiques uniques (par exemple, \"a\" ou \"A\" entourés d'espaces) qui ne sont pas pertinents pour l'analyse de texte. Enfin, toutes les occurrences de plusieurs espaces sont remplacées par un seul espace. La fonction renvoie la chaîne de caractères nettoyée."
   ]
  },
  {
   "cell_type": "code",
   "execution_count": 5,
   "id": "75910e98",
   "metadata": {},
   "outputs": [],
   "source": [
    "X = []\n",
    "sentences = list(movie_reviews['review'])\n",
    "for sen in sentences:\n",
    "    X.append(preprocess_text(sen))"
   ]
  },
  {
   "cell_type": "code",
   "execution_count": 6,
   "id": "6f1431c0",
   "metadata": {},
   "outputs": [],
   "source": [
    "y = movie_reviews['sentiment']\n",
    "y = np.array(list(map(lambda x: 1 if x==\"positive\" else 0, y)))"
   ]
  },
  {
   "cell_type": "code",
   "execution_count": 7,
   "id": "6a22b409",
   "metadata": {},
   "outputs": [],
   "source": [
    "X_train, X_test, y_train, y_test = train_test_split(X, y,test_size=0.20, random_state=42)"
   ]
  },
  {
   "cell_type": "code",
   "execution_count": 8,
   "id": "e2364cdb",
   "metadata": {
    "scrolled": true
   },
   "outputs": [
    {
     "data": {
      "text/plain": [
       "array([1, 1, 0, ..., 1, 0, 1])"
      ]
     },
     "execution_count": 8,
     "metadata": {},
     "output_type": "execute_result"
    }
   ],
   "source": [
    "y_test"
   ]
  },
  {
   "cell_type": "code",
   "execution_count": 9,
   "id": "33a0cc23",
   "metadata": {},
   "outputs": [],
   "source": [
    "tokenizer = Tokenizer(num_words=5000)\n",
    "tokenizer.fit_on_texts(X_train)\n",
    "X_train = tokenizer.texts_to_sequences(X_train)\n",
    "X_test = tokenizer.texts_to_sequences(X_test)"
   ]
  },
  {
   "cell_type": "code",
   "execution_count": 10,
   "id": "318e0543",
   "metadata": {},
   "outputs": [],
   "source": [
    "# Adding 1 because of reserved 0 index\n",
    "vocab_size = len(tokenizer.word_index) + 1\n",
    "maxlen = 100\n",
    "X_train = pad_sequences(X_train, padding='post', maxlen=maxlen)\n",
    "X_test = pad_sequences(X_test, padding='post', maxlen=maxlen)"
   ]
  },
  {
   "cell_type": "code",
   "execution_count": 233,
   "id": "dc6c2b81",
   "metadata": {},
   "outputs": [
    {
     "data": {
      "text/plain": [
       "array([[   4,    1,  296, ...,  198,  345, 3812],\n",
       "       [   1,  412,  100, ...,   82,   99,    6],\n",
       "       [ 128, 1307,  108, ...,    0,    0,    0],\n",
       "       ...,\n",
       "       [ 778,    8,   24, ...,    0,    0,    0],\n",
       "       [   8,  347,   10, ...,    0,    0,    0],\n",
       "       [ 274,  100,  121, ...,   67,   69, 1946]])"
      ]
     },
     "execution_count": 233,
     "metadata": {},
     "output_type": "execute_result"
    }
   ],
   "source": [
    "X_train"
   ]
  },
  {
   "cell_type": "code",
   "execution_count": 17,
   "id": "ffdb7aaa",
   "metadata": {},
   "outputs": [],
   "source": [
    "from numpy import array\n",
    "from numpy import asarray\n",
    "from numpy import zeros\n",
    "embeddings_dictionary = dict()\n",
    "glove_file = open(\"glove.6B.100d.txt\", encoding=\"utf8\")\n",
    "for line in glove_file:\n",
    "    records = line.split()\n",
    "    word = records[0]\n",
    "    vector_dimensions = asarray(records[1:],dtype='float32')\n",
    "    embeddings_dictionary [word] = vector_dimensions\n",
    "glove_file.close()"
   ]
  },
  {
   "cell_type": "code",
   "execution_count": 18,
   "id": "31152f08",
   "metadata": {},
   "outputs": [],
   "source": [
    "embedding_matrix = zeros((vocab_size, 100))\n",
    "for word, index in tokenizer.word_index.items():\n",
    "    embedding_vector = embeddings_dictionary.get(word)\n",
    "    if embedding_vector is not None:\n",
    "        embedding_matrix[index] = embedding_vector"
   ]
  },
  {
   "cell_type": "markdown",
   "id": "66bbce28",
   "metadata": {},
   "source": [
    "# A. Classification with a simple neural network"
   ]
  },
  {
   "cell_type": "code",
   "execution_count": 210,
   "id": "ba25aa6f",
   "metadata": {},
   "outputs": [
    {
     "name": "stdout",
     "output_type": "stream",
     "text": [
      "Epoch 1/6\n",
      "250/250 [==============================] - 2s 5ms/step - loss: 0.5996 - acc: 0.6722 - val_loss: 0.5334 - val_acc: 0.7308\n",
      "Epoch 2/6\n",
      "250/250 [==============================] - 1s 5ms/step - loss: 0.4934 - acc: 0.7631 - val_loss: 0.5402 - val_acc: 0.7278\n",
      "Epoch 3/6\n",
      "250/250 [==============================] - 1s 5ms/step - loss: 0.4593 - acc: 0.7862 - val_loss: 0.5250 - val_acc: 0.7380\n",
      "Epoch 4/6\n",
      "250/250 [==============================] - 1s 5ms/step - loss: 0.4409 - acc: 0.7977 - val_loss: 0.5251 - val_acc: 0.7411\n",
      "Epoch 5/6\n",
      "250/250 [==============================] - 1s 6ms/step - loss: 0.4167 - acc: 0.8110 - val_loss: 0.5370 - val_acc: 0.7411\n",
      "Epoch 6/6\n",
      "250/250 [==============================] - 1s 5ms/step - loss: 0.4093 - acc: 0.8147 - val_loss: 0.5428 - val_acc: 0.7364\n"
     ]
    }
   ],
   "source": [
    "from keras.models import Sequential\n",
    "from keras.layers import Embedding, Flatten, Dense\n",
    "\n",
    "# Créer un modèle séquentiel\n",
    "Neural = Sequential()\n",
    "\n",
    "Neural.add(Embedding(vocab_size, 100, weights=[embedding_matrix], input_length=maxlen, trainable=False))\n",
    "\n",
    "# Ajouter une couche de Flatten\n",
    "Neural.add(Flatten())\n",
    "\n",
    "# Ajouter une couche Dense\n",
    "Neural.add(Dense(units=1, activation='sigmoid'))\n",
    "\n",
    "# Compiler le modèle avec les paramètres spécifiés\n",
    "Neural.compile(loss='binary_crossentropy', optimizer='adam', metrics=['acc'])\n",
    "\n",
    "# Entraîner le modèle avec les paramètres spécifiés\n",
    "history = Neural.fit(X_train, y_train, epochs=6, batch_size=128, verbose=1, validation_split=0.2)"
   ]
  },
  {
   "cell_type": "code",
   "execution_count": 211,
   "id": "fa994e80",
   "metadata": {},
   "outputs": [
    {
     "name": "stdout",
     "output_type": "stream",
     "text": [
      "313/313 [==============================] - 1s 2ms/step - loss: 0.5444 - acc: 0.7380\n",
      "Test Score: 0.5443859100341797\n",
      "Test Accuracy: 0.7379999756813049\n"
     ]
    }
   ],
   "source": [
    "score = Neural.evaluate(X_test, y_test, verbose=1)\n",
    "print(\"Test Score:\", score[0])\n",
    "print(\"Test Accuracy:\", score[1])"
   ]
  },
  {
   "cell_type": "code",
   "execution_count": 212,
   "id": "46114a32",
   "metadata": {},
   "outputs": [
    {
     "data": {
      "image/png": "[encoded data removed]",
      "text/plain": [
       "<Figure size 640x480 with 1 Axes>"
      ]
     },
     "metadata": {},
     "output_type": "display_data"
    },
    {
     "data": {
      "image/png": "[encoded data removed]",
      "text/plain": [
       "<Figure size 640x480 with 1 Axes>"
      ]
     },
     "metadata": {},
     "output_type": "display_data"
    }
   ],
   "source": [
    "plt.plot(history.history['acc'])\n",
    "plt.plot(history.history['val_acc'])\n",
    "plt.title('model accuracy')\n",
    "plt.ylabel('accuracy')\n",
    "plt.xlabel('epoch')\n",
    "plt.legend(['train','test'], loc='upper left')\n",
    "plt.show()\n",
    "plt.plot(history.history['loss'])\n",
    "plt.plot(history.history['val_loss'])\n",
    "plt.title('model loss')\n",
    "plt.ylabel('loss')\n",
    "plt.xlabel('epoch')\n",
    "plt.legend(['train','test'], loc='upper left')\n",
    "plt.show()"
   ]
  },
  {
   "cell_type": "code",
   "execution_count": 213,
   "id": "2810ddf0",
   "metadata": {},
   "outputs": [
    {
     "data": {
      "text/plain": [
       "40000"
      ]
     },
     "execution_count": 213,
     "metadata": {},
     "output_type": "execute_result"
    }
   ],
   "source": [
    "len(y_train)"
   ]
  },
  {
   "cell_type": "code",
   "execution_count": 214,
   "id": "3b20fc7b",
   "metadata": {},
   "outputs": [],
   "source": [
    "y_train = np.asarray(y_train).astype('float32').reshape((-1,1))\n",
    "y_test = np.asarray(y_test).astype('float32').reshape((-1,1))"
   ]
  },
  {
   "cell_type": "code",
   "execution_count": 27,
   "id": "e80259dd",
   "metadata": {},
   "outputs": [
    {
     "name": "stdout",
     "output_type": "stream",
     "text": [
      "(10000, 100)\n",
      "(10000,)\n"
     ]
    }
   ],
   "source": [
    "print(X_test.shape)\n",
    "print(y_test.shape)\n"
   ]
  },
  {
   "cell_type": "markdown",
   "id": "170964c0",
   "metadata": {},
   "source": [
    "# B. Classification with a convolutional neural network"
   ]
  },
  {
   "cell_type": "code",
   "execution_count": 216,
   "id": "c2226b9c",
   "metadata": {},
   "outputs": [
    {
     "name": "stdout",
     "output_type": "stream",
     "text": [
      "Epoch 1/6\n",
      "250/250 [==============================] - 46s 183ms/step - loss: 0.6632 - acc: 0.5969 - val_loss: 0.6376 - val_acc: 0.6253\n",
      "Epoch 2/6\n",
      "250/250 [==============================] - 45s 180ms/step - loss: 0.6295 - acc: 0.6352 - val_loss: 0.6364 - val_acc: 0.6263\n",
      "Epoch 3/6\n",
      "250/250 [==============================] - 47s 190ms/step - loss: 0.6203 - acc: 0.6443 - val_loss: 0.6358 - val_acc: 0.6275\n",
      "Epoch 4/6\n",
      "250/250 [==============================] - 53s 210ms/step - loss: 0.6153 - acc: 0.6495 - val_loss: 0.6219 - val_acc: 0.6428\n",
      "Epoch 5/6\n",
      "250/250 [==============================] - 46s 186ms/step - loss: 0.6112 - acc: 0.6535 - val_loss: 0.6214 - val_acc: 0.6432\n",
      "Epoch 6/6\n",
      "250/250 [==============================] - 48s 192ms/step - loss: 0.6069 - acc: 0.6573 - val_loss: 0.6256 - val_acc: 0.6382\n"
     ]
    }
   ],
   "source": [
    "#from keras.utils import to_categorical\n",
    "from keras.models import Sequential\n",
    "from keras.layers import Embedding, Conv1D, MaxPooling1D, Dense\n",
    "\n",
    "#y_train = to_categorical(y_train)\n",
    "\n",
    "CNN = Sequential()\n",
    "CNN.add(Embedding(vocab_size, 100, weights=[embedding_matrix], input_length=maxlen))\n",
    "CNN.add(Conv1D(filters=128, kernel_size=5, activation='relu'))\n",
    "CNN.add(MaxPooling1D())\n",
    "CNN.add(Dense(units=1, activation='sigmoid'))\n",
    "\n",
    "CNN.compile(loss='binary_crossentropy', optimizer='adam', metrics=['acc'])\n",
    "\n",
    "history1 = CNN.fit(X_train, y_train, epochs=6, batch_size=128, validation_split=0.2, verbose=1)"
   ]
  },
  {
   "cell_type": "code",
   "execution_count": 217,
   "id": "6b95518b",
   "metadata": {},
   "outputs": [
    {
     "name": "stdout",
     "output_type": "stream",
     "text": [
      "313/313 [==============================] - 1s 5ms/step - loss: 0.6255 - acc: 0.6388\n",
      "Test Score: 0.6254530549049377\n",
      "Test Accuracy: 0.6388457417488098\n"
     ]
    }
   ],
   "source": [
    "score = CNN.evaluate(X_test, y_test, verbose=1)\n",
    "print(\"Test Score:\", score[0])\n",
    "print(\"Test Accuracy:\", score[1])"
   ]
  },
  {
   "cell_type": "code",
   "execution_count": 218,
   "id": "ae014111",
   "metadata": {},
   "outputs": [
    {
     "data": {
      "image/png": "[encoded data removed]",
      "text/plain": [
       "<Figure size 640x480 with 1 Axes>"
      ]
     },
     "metadata": {},
     "output_type": "display_data"
    },
    {
     "data": {
      "image/png": "[encoded data removed]",
      "text/plain": [
       "<Figure size 640x480 with 1 Axes>"
      ]
     },
     "metadata": {},
     "output_type": "display_data"
    }
   ],
   "source": [
    "plt.plot(history1.history['acc'])\n",
    "plt.plot(history1.history['val_acc'])\n",
    "plt.title('model accuracy')\n",
    "plt.ylabel('accuracy')\n",
    "plt.xlabel('epoch')\n",
    "plt.legend(['train','test'], loc='upper left')\n",
    "plt.show()\n",
    "plt.plot(history1.history['loss'])\n",
    "plt.plot(history1.history['val_loss'])\n",
    "plt.title('model loss')\n",
    "plt.ylabel('loss')\n",
    "plt.xlabel('epoch')\n",
    "plt.legend(['train','test'], loc='upper left')\n",
    "plt.show()"
   ]
  },
  {
   "cell_type": "markdown",
   "id": "f836083c",
   "metadata": {},
   "source": [
    "# Classification with LSTM"
   ]
  },
  {
   "cell_type": "code",
   "execution_count": 220,
   "id": "500b4ab7",
   "metadata": {},
   "outputs": [
    {
     "name": "stdout",
     "output_type": "stream",
     "text": [
      "Epoch 1/6\n",
      "250/250 [==============================] - 75s 291ms/step - loss: 0.4975 - acc: 0.7507 - val_loss: 0.3801 - val_acc: 0.8356\n",
      "Epoch 2/6\n",
      "250/250 [==============================] - 71s 284ms/step - loss: 0.3343 - acc: 0.8562 - val_loss: 0.3954 - val_acc: 0.8530\n",
      "Epoch 3/6\n",
      "250/250 [==============================] - 69s 278ms/step - loss: 0.2859 - acc: 0.8808 - val_loss: 0.3165 - val_acc: 0.8634\n",
      "Epoch 4/6\n",
      "250/250 [==============================] - 68s 272ms/step - loss: 0.2543 - acc: 0.8983 - val_loss: 0.3157 - val_acc: 0.8646\n",
      "Epoch 5/6\n",
      "250/250 [==============================] - 69s 277ms/step - loss: 0.2311 - acc: 0.9089 - val_loss: 0.3289 - val_acc: 0.8644\n",
      "Epoch 6/6\n",
      "250/250 [==============================] - 72s 287ms/step - loss: 0.2082 - acc: 0.9195 - val_loss: 0.3379 - val_acc: 0.8579\n"
     ]
    }
   ],
   "source": [
    "from keras.models import Sequential\n",
    "from keras.layers import Embedding, LSTM, Dense\n",
    "\n",
    "RNN = Sequential()\n",
    "RNN.add(Embedding(vocab_size, 100, weights=[embedding_matrix], input_length=maxlen))\n",
    "RNN.add(LSTM(units=128))\n",
    "RNN.add(Dense(units=1, activation='sigmoid'))\n",
    "\n",
    "RNN.compile(loss='binary_crossentropy', optimizer='adam', metrics=['acc'])\n",
    "\n",
    "history2 = RNN.fit(X_train, y_train, epochs=6, batch_size=128, validation_split=0.2, verbose=1)"
   ]
  },
  {
   "cell_type": "code",
   "execution_count": 221,
   "id": "874fcdf0",
   "metadata": {},
   "outputs": [
    {
     "name": "stdout",
     "output_type": "stream",
     "text": [
      "313/313 [==============================] - 7s 24ms/step - loss: 0.3235 - acc: 0.8642\n",
      "Test Score: 0.3234810531139374\n",
      "Test Accuracy: 0.8641999959945679\n"
     ]
    }
   ],
   "source": [
    "score = RNN.evaluate(X_test, y_test, verbose=1)\n",
    "print(\"Test Score:\", score[0])\n",
    "print(\"Test Accuracy:\", score[1])"
   ]
  },
  {
   "cell_type": "code",
   "execution_count": 222,
   "id": "95b19520",
   "metadata": {},
   "outputs": [
    {
     "data": {
      "image/png": "[encoded data removed]",
      "text/plain": [
       "<Figure size 640x480 with 1 Axes>"
      ]
     },
     "metadata": {},
     "output_type": "display_data"
    },
    {
     "data": {
      "image/png": "[encoded data removed]",
      "text/plain": [
       "<Figure size 640x480 with 1 Axes>"
      ]
     },
     "metadata": {},
     "output_type": "display_data"
    }
   ],
   "source": [
    "plt.plot(history2.history['acc'])\n",
    "plt.plot(history2.history['val_acc'])\n",
    "plt.title('model accuracy')\n",
    "plt.ylabel('accuracy')\n",
    "plt.xlabel('epoch')\n",
    "plt.legend(['train','test'], loc='upper left')\n",
    "plt.show()\n",
    "plt.plot(history2.history['loss'])\n",
    "plt.plot(history2.history['val_loss'])\n",
    "plt.title('model loss')\n",
    "plt.ylabel('loss')\n",
    "plt.xlabel('epoch')\n",
    "plt.legend(['train','test'], loc='upper left')\n",
    "plt.show()"
   ]
  },
  {
   "cell_type": "code",
   "execution_count": 225,
   "id": "bee202b9",
   "metadata": {},
   "outputs": [
    {
     "name": "stdout",
     "output_type": "stream",
     "text": [
      "313/313 [==============================] - 1s 2ms/step - loss: 0.5444 - acc: 0.7380\n",
      "313/313 [==============================] - 2s 5ms/step - loss: 0.6255 - acc: 0.6388\n",
      "313/313 [==============================] - 7s 23ms/step - loss: 0.3235 - acc: 0.8642\n"
     ]
    }
   ],
   "source": [
    "score1 = Neural.evaluate(X_test, y_test, verbose=1)\n",
    "score2 = CNN.evaluate(X_test, y_test, verbose=1)\n",
    "score3 = RNN.evaluate(X_test, y_test, verbose=1)"
   ]
  },
  {
   "cell_type": "code",
   "execution_count": 228,
   "id": "bbc4ca5d",
   "metadata": {},
   "outputs": [
    {
     "name": "stdout",
     "output_type": "stream",
     "text": [
      "           Modèle  Accuracy\n",
      "0  Neural Network  0.738000\n",
      "1             CNN  0.638846\n",
      "2             RNN  0.864200\n"
     ]
    }
   ],
   "source": [
    "df_scores = pd.DataFrame({\n",
    "    'Modèle': ['Neural Network', 'CNN','RNN'],\n",
    "    'Accuracy': [score1[1], score2[1],score3[1]]\n",
    "})\n",
    "print(df_scores)"
   ]
  },
  {
   "cell_type": "raw",
   "id": "bf5c2452",
   "metadata": {},
   "source": [
    "En comparant les trois modèles de classification, nous pouvons voir que le modèle RNN (réseau de neurones récurrents) LSTM a obtenu la meilleure 'accuracy' avec une valeur de 0,864200. Cela peut être dû à la capacité des réseaux de neurones récurrents à prendre en compte les dépendances séquentielles dans les données.\n",
    "Le modèle CNN (convolutional neural network) a obtenu la plus faible précision de 0,638846. Cela peut être dû au fait que les CNN sont généralement mieux adaptés pour les problèmes de vision par ordinateur, plutôt que pour les données textuelles."
   ]
  },
  {
   "cell_type": "code",
   "execution_count": 237,
   "id": "6ac61a0a",
   "metadata": {},
   "outputs": [
    {
     "name": "stdout",
     "output_type": "stream",
     "text": [
      "After the success of Die Hard and it sequels it no surprise really that in the a glut of Die Hard on movies cashed in on the wrong guy wrong place wrong time concept That is what they did with Cliffhanger Die Hard on mountain just in time to rescue Sly Stop or My Mom Will Shoot Stallone career Cliffhanger is one big nit pickers dream especially to those who are expert at mountain climbing base jumping aviation facial expressions acting skills All in all it full of excuses to dismiss the film as one overblown pile of junk Stallone even managed to get out acted by horse However if you an forget all the nonsense it actually very lovable and undeniably entertaining romp that delivers as plenty of thrills and unintentionally plenty of laughs You ve got to love John Lithgows sneery evilness his tick every box band of baddies and best of all the permanently harassed and hapless turncoat agent Rex Linn as Travers He may of been Henry in Portrait of Serial Killer but Michael Rooker is noteworthy for cringe worthy performance as Hal he insists on constantly shrieking in painful disbelief at his captors that man never hurt anybody And whilst he surely can be it really does look like Ralph Waite Frank character is grinning as the girl plummets to her death Mention too must go to former London Burning actor Craig Fairbrass as the Brit bad guy who comes cropper whilst using Hal as Human Football yes you can help enjoy that bit Hal needed good kicking So forget your better judgement who cares if that could never happen lower your acting expectations turn up the volume and enjoy And if you re looking for Qaulen he the one wearing the helicopter \n"
     ]
    }
   ],
   "source": [
    "inst = X[20]\n",
    "print(inst)"
   ]
  },
  {
   "cell_type": "code",
   "execution_count": 238,
   "id": "f62fc48d",
   "metadata": {},
   "outputs": [
    {
     "data": {
      "text/plain": [
       "1"
      ]
     },
     "execution_count": 238,
     "metadata": {},
     "output_type": "execute_result"
    }
   ],
   "source": [
    "y[20]"
   ]
  },
  {
   "cell_type": "code",
   "execution_count": null,
   "id": "51fa199b",
   "metadata": {},
   "outputs": [],
   "source": [
    "inst = tokenizer.texts_to_sequences(inst)\n",
    "list = []\n",
    "for sublist in instance:\n",
    "    for item in sublist:\n",
    "        list.append(item)\n",
    "list = [list]\n",
    "inst = pad_sequences(list, padding='post', maxlen=maxlen)\n",
    "\n",
    "prediction = RNN.predict(inst)\n",
    "\n",
    "if(prediction>0.5):\n",
    "    print('The instance is positive')\n",
    "else: print('the instance is negative')"
   ]
  },
  {
   "cell_type": "markdown",
   "id": "391d526c",
   "metadata": {},
   "source": [
    " # Compte Rendu"
   ]
  },
  {
   "cell_type": "raw",
   "id": "aca4ef3b",
   "metadata": {},
   "source": [
    "On commence par définir les fonctions qui implémentent les modéles dont on o besoin (LSTM , CNN+RNN , GRU)"
   ]
  },
  {
   "cell_type": "code",
   "execution_count": 11,
   "id": "a13f8525",
   "metadata": {},
   "outputs": [],
   "source": [
    "def train_and_evaluate_LTSM_model(embedding_matrix_method,embedding_dim=100):\n",
    "    model = Sequential()\n",
    "    model.add(Embedding(vocab_size, embedding_dim, weights=[embedding_matrix_method], input_length=maxlen))\n",
    "    model.add(LSTM(units=128))\n",
    "    model.add(Dense(units=1, activation='sigmoid'))\n",
    "    model.compile(loss='binary_crossentropy', optimizer='adam', metrics=['acc'])\n",
    "    history = model.fit(X_train, y_train, epochs=6, batch_size=128, verbose=1, validation_split=0.2)\n",
    "    score = model.evaluate(X_test, y_test, verbose=1)\n",
    "    return score[1]"
   ]
  },
  {
   "cell_type": "code",
   "execution_count": 12,
   "id": "15df6313",
   "metadata": {},
   "outputs": [],
   "source": [
    "def train_and_evaluate_GRU_model(embedding_matrix_method, embedding_dim=100):\n",
    "    model = Sequential()\n",
    "    model.add(Embedding(vocab_size, embedding_dim, weights=[embedding_matrix_method], input_length=maxlen))\n",
    "    model.add(GRU(32))\n",
    "    model.add(Dense(1, activation='sigmoid'))\n",
    "    model.compile(optimizer='adam', loss='binary_crossentropy', metrics=['acc'])\n",
    "    history = model.fit(X_train, y_train, epochs=6, batch_size=128, validation_split=0.2)\n",
    "    score= model.evaluate(X_test, y_test)\n",
    "    return score[1]"
   ]
  },
  {
   "cell_type": "code",
   "execution_count": 13,
   "id": "2edd5163",
   "metadata": {},
   "outputs": [],
   "source": [
    "def train_and_evaluate_RNN_CNN_model(embedding_matrix_method, embedding_dim=100):\n",
    "    # define the model\n",
    "    model = Sequential()\n",
    "    model.add(Embedding(vocab_size, embedding_dim, weights=[embedding_matrix_method], input_length=maxlen, trainable=False))\n",
    "    model.add(Conv1D(filters=128, kernel_size=5, activation='relu'))\n",
    "    model.add(MaxPooling1D(pool_size=2))\n",
    "    model.add(GRU(units=128))\n",
    "    model.add(Dense(units=1, activation='sigmoid'))\n",
    "\n",
    "    # compile the model\n",
    "    model.compile(loss='binary_crossentropy', optimizer='adam', metrics=['accuracy'])\n",
    "\n",
    "    # train the model\n",
    "    history = model.fit(X_train, y_train, epochs=6, batch_size=128, verbose=1, validation_split=0.2, )\n",
    "\n",
    "    # evaluate the model on the test set\n",
    "    score= model.evaluate(X_test, y_test)\n",
    "    return score[1]"
   ]
  },
  {
   "cell_type": "code",
   "execution_count": 19,
   "id": "5252887b",
   "metadata": {},
   "outputs": [],
   "source": [
    "embedding_matrix_glove = embedding_matrix\n",
    "embedding_dim_glove = 100"
   ]
  },
  {
   "cell_type": "markdown",
   "id": "65687ffe",
   "metadata": {},
   "source": [
    "# Word2Vec"
   ]
  },
  {
   "cell_type": "code",
   "execution_count": 14,
   "id": "ffcc4453",
   "metadata": {},
   "outputs": [],
   "source": [
    "from gensim.models import Word2Vec\n",
    "w2v_model = Word2Vec(sentences=X, window=5, min_count=1)"
   ]
  },
  {
   "cell_type": "code",
   "execution_count": 15,
   "id": "8fcf536c",
   "metadata": {},
   "outputs": [],
   "source": [
    "embedding_matrix_w2v = np.zeros((vocab_size, 100))\n",
    "for word, i in tokenizer.word_index.items():\n",
    "    if word in enumerate(w2v_model.wv.key_to_index):\n",
    "        embedding_matrix_w2v[i] = w2v_model[word]"
   ]
  },
  {
   "cell_type": "markdown",
   "id": "51d980f2",
   "metadata": {},
   "source": [
    "# FastText"
   ]
  },
  {
   "cell_type": "code",
   "execution_count": 22,
   "id": "6b4eb296",
   "metadata": {},
   "outputs": [],
   "source": [
    "from gensim.models import FastText\n",
    "fasttext_model= FastText(sentences=X, min_count=1 , window=5)"
   ]
  },
  {
   "cell_type": "code",
   "execution_count": 23,
   "id": "c0f7ad30",
   "metadata": {},
   "outputs": [],
   "source": [
    "embedding_matrix_fasttext = np.zeros((vocab_size, 100))\n",
    "for word, i in tokenizer.word_index.items():\n",
    "    embedding_vector = fasttext_model.wv[word]\n",
    "    if embedding_vector is not None:\n",
    "        embedding_matrix_fasttext[i] = embedding_vector"
   ]
  },
  {
   "cell_type": "markdown",
   "id": "05c449f2",
   "metadata": {},
   "source": [
    "# TfIdf"
   ]
  },
  {
   "cell_type": "code",
   "execution_count": 25,
   "id": "159758fb",
   "metadata": {},
   "outputs": [
    {
     "data": {
      "text/html": [
       "<style>#sk-container-id-1 {color: black;background-color: white;}#sk-container-id-1 pre{padding: 0;}#sk-container-id-1 div.sk-toggleable {background-color: white;}#sk-container-id-1 label.sk-toggleable__label {cursor: pointer;display: block;width: 100%;margin-bottom: 0;padding: 0.3em;box-sizing: border-box;text-align: center;}#sk-container-id-1 label.sk-toggleable__label-arrow:before {content: \"▸\";float: left;margin-right: 0.25em;color: #696969;}#sk-container-id-1 label.sk-toggleable__label-arrow:hover:before {color: black;}#sk-container-id-1 div.sk-estimator:hover label.sk-toggleable__label-arrow:before {color: black;}#sk-container-id-1 div.sk-toggleable__content {max-height: 0;max-width: 0;overflow: hidden;text-align: left;background-color: #f0f8ff;}#sk-container-id-1 div.sk-toggleable__content pre {margin: 0.2em;color: black;border-radius: 0.25em;background-color: #f0f8ff;}#sk-container-id-1 input.sk-toggleable__control:checked~div.sk-toggleable__content {max-height: 200px;max-width: 100%;overflow: auto;}#sk-container-id-1 input.sk-toggleable__control:checked~label.sk-toggleable__label-arrow:before {content: \"▾\";}#sk-container-id-1 div.sk-estimator input.sk-toggleable__control:checked~label.sk-toggleable__label {background-color: #d4ebff;}#sk-container-id-1 div.sk-label input.sk-toggleable__control:checked~label.sk-toggleable__label {background-color: #d4ebff;}#sk-container-id-1 input.sk-hidden--visually {border: 0;clip: rect(1px 1px 1px 1px);clip: rect(1px, 1px, 1px, 1px);height: 1px;margin: -1px;overflow: hidden;padding: 0;position: absolute;width: 1px;}#sk-container-id-1 div.sk-estimator {font-family: monospace;background-color: #f0f8ff;border: 1px dotted black;border-radius: 0.25em;box-sizing: border-box;margin-bottom: 0.5em;}#sk-container-id-1 div.sk-estimator:hover {background-color: #d4ebff;}#sk-container-id-1 div.sk-parallel-item::after {content: \"\";width: 100%;border-bottom: 1px solid gray;flex-grow: 1;}#sk-container-id-1 div.sk-label:hover label.sk-toggleable__label {background-color: #d4ebff;}#sk-container-id-1 div.sk-serial::before {content: \"\";position: absolute;border-left: 1px solid gray;box-sizing: border-box;top: 0;bottom: 0;left: 50%;z-index: 0;}#sk-container-id-1 div.sk-serial {display: flex;flex-direction: column;align-items: center;background-color: white;padding-right: 0.2em;padding-left: 0.2em;position: relative;}#sk-container-id-1 div.sk-item {position: relative;z-index: 1;}#sk-container-id-1 div.sk-parallel {display: flex;align-items: stretch;justify-content: center;background-color: white;position: relative;}#sk-container-id-1 div.sk-item::before, #sk-container-id-1 div.sk-parallel-item::before {content: \"\";position: absolute;border-left: 1px solid gray;box-sizing: border-box;top: 0;bottom: 0;left: 50%;z-index: -1;}#sk-container-id-1 div.sk-parallel-item {display: flex;flex-direction: column;z-index: 1;position: relative;background-color: white;}#sk-container-id-1 div.sk-parallel-item:first-child::after {align-self: flex-end;width: 50%;}#sk-container-id-1 div.sk-parallel-item:last-child::after {align-self: flex-start;width: 50%;}#sk-container-id-1 div.sk-parallel-item:only-child::after {width: 0;}#sk-container-id-1 div.sk-dashed-wrapped {border: 1px dashed gray;margin: 0 0.4em 0.5em 0.4em;box-sizing: border-box;padding-bottom: 0.4em;background-color: white;}#sk-container-id-1 div.sk-label label {font-family: monospace;font-weight: bold;display: inline-block;line-height: 1.2em;}#sk-container-id-1 div.sk-label-container {text-align: center;}#sk-container-id-1 div.sk-container {/* jupyter's `normalize.less` sets `[hidden] { display: none; }` but bootstrap.min.css set `[hidden] { display: none !important; }` so we also need the `!important` here to be able to override the default hidden behavior on the sphinx rendered scikit-learn.org. See: https://github.com/scikit-learn/scikit-learn/issues/21755 */display: inline-block !important;position: relative;}#sk-container-id-1 div.sk-text-repr-fallback {display: none;}</style><div id=\"sk-container-id-1\" class=\"sk-top-container\"><div class=\"sk-text-repr-fallback\"><pre>TfidfVectorizer()</pre><b>In a Jupyter environment, please rerun this cell to show the HTML representation or trust the notebook. <br />On GitHub, the HTML representation is unable to render, please try loading this page with nbviewer.org.</b></div><div class=\"sk-container\" hidden><div class=\"sk-item\"><div class=\"sk-estimator sk-toggleable\"><input class=\"sk-toggleable__control sk-hidden--visually\" id=\"sk-estimator-id-1\" type=\"checkbox\" checked><label for=\"sk-estimator-id-1\" class=\"sk-toggleable__label sk-toggleable__label-arrow\">TfidfVectorizer</label><div class=\"sk-toggleable__content\"><pre>TfidfVectorizer()</pre></div></div></div></div></div>"
      ],
      "text/plain": [
       "TfidfVectorizer()"
      ]
     },
     "execution_count": 25,
     "metadata": {},
     "output_type": "execute_result"
    }
   ],
   "source": [
    "from sklearn.feature_extraction.text import TfidfVectorizer\n",
    "tfidf = TfidfVectorizer()\n",
    "tfidf.fit(X)"
   ]
  },
  {
   "cell_type": "code",
   "execution_count": 30,
   "id": "c4e86e1f",
   "metadata": {},
   "outputs": [],
   "source": [
    "vocab = tfidf.get_feature_names_out() \n",
    "idf = tfidf.idf_\n",
    "embedding_matrix_tfidf = np.zeros((vocab_size, 100))\n",
    "for word, i in tokenizer.word_index.items():\n",
    "    if word in vocab:\n",
    "        word_index = np.where(vocab == word)[0][0]\n",
    "        tfidf_weight = idf[word_index]\n",
    "        #tfidf_weight = idf[vocab.index(word)]\n",
    "        embedding_matrix_tfidf[i] = tfidf.transform([word]).toarray()[0][:100] * tfidf_weight"
   ]
  },
  {
   "cell_type": "markdown",
   "id": "937e2a7c",
   "metadata": {},
   "source": [
    "# EVALUATING"
   ]
  },
  {
   "cell_type": "code",
   "execution_count": 20,
   "id": "58d99aa3",
   "metadata": {},
   "outputs": [
    {
     "name": "stdout",
     "output_type": "stream",
     "text": [
      "Epoch 1/6\n",
      "250/250 [==============================] - 93s 366ms/step - loss: 0.5031 - acc: 0.7461 - val_loss: 0.3689 - val_acc: 0.8405\n",
      "Epoch 2/6\n",
      "250/250 [==============================] - 87s 349ms/step - loss: 0.3392 - acc: 0.8574 - val_loss: 0.3205 - val_acc: 0.8648\n",
      "Epoch 3/6\n",
      "250/250 [==============================] - 96s 383ms/step - loss: 0.2859 - acc: 0.8844 - val_loss: 0.3218 - val_acc: 0.8618\n",
      "Epoch 4/6\n",
      "250/250 [==============================] - 70s 280ms/step - loss: 0.2597 - acc: 0.8969 - val_loss: 0.3161 - val_acc: 0.8687\n",
      "Epoch 5/6\n",
      "250/250 [==============================] - 67s 268ms/step - loss: 0.2376 - acc: 0.9064 - val_loss: 0.3250 - val_acc: 0.8659\n",
      "Epoch 6/6\n",
      "250/250 [==============================] - 67s 268ms/step - loss: 0.2145 - acc: 0.9181 - val_loss: 0.3440 - val_acc: 0.8619\n",
      "313/313 [==============================] - 7s 23ms/step - loss: 0.3297 - acc: 0.8626\n",
      "Epoch 1/6\n",
      "250/250 [==============================] - 45s 175ms/step - loss: 0.5459 - acc: 0.6983 - val_loss: 0.3743 - val_acc: 0.8354\n",
      "Epoch 2/6\n",
      "250/250 [==============================] - 43s 171ms/step - loss: 0.3214 - acc: 0.8630 - val_loss: 0.3349 - val_acc: 0.8593\n",
      "Epoch 3/6\n",
      "250/250 [==============================] - 41s 164ms/step - loss: 0.2757 - acc: 0.8864 - val_loss: 0.3204 - val_acc: 0.8639\n",
      "Epoch 4/6\n",
      "250/250 [==============================] - 43s 170ms/step - loss: 0.2462 - acc: 0.9027 - val_loss: 0.3297 - val_acc: 0.8639\n",
      "Epoch 5/6\n",
      "250/250 [==============================] - 41s 164ms/step - loss: 0.2202 - acc: 0.9144 - val_loss: 0.3365 - val_acc: 0.8665\n",
      "Epoch 6/6\n",
      "250/250 [==============================] - 41s 164ms/step - loss: 0.1968 - acc: 0.9256 - val_loss: 0.3354 - val_acc: 0.8634\n",
      "313/313 [==============================] - 2s 8ms/step - loss: 0.3197 - acc: 0.8661\n",
      "Epoch 1/6\n",
      "250/250 [==============================] - 26s 100ms/step - loss: 0.5573 - accuracy: 0.6983 - val_loss: 0.4202 - val_accuracy: 0.8051\n",
      "Epoch 2/6\n",
      "250/250 [==============================] - 25s 99ms/step - loss: 0.3891 - accuracy: 0.8230 - val_loss: 0.3819 - val_accuracy: 0.8322\n",
      "Epoch 3/6\n",
      "250/250 [==============================] - 26s 103ms/step - loss: 0.3391 - accuracy: 0.8515 - val_loss: 0.3637 - val_accuracy: 0.8393\n",
      "Epoch 4/6\n",
      "250/250 [==============================] - 25s 101ms/step - loss: 0.3013 - accuracy: 0.8676 - val_loss: 0.3866 - val_accuracy: 0.8342\n",
      "Epoch 5/6\n",
      "250/250 [==============================] - 25s 99ms/step - loss: 0.2594 - accuracy: 0.8910 - val_loss: 0.3700 - val_accuracy: 0.8421\n",
      "Epoch 6/6\n",
      "250/250 [==============================] - 26s 103ms/step - loss: 0.2145 - accuracy: 0.9142 - val_loss: 0.4007 - val_accuracy: 0.8292\n",
      "313/313 [==============================] - 4s 13ms/step - loss: 0.3897 - accuracy: 0.8335\n"
     ]
    },
    {
     "data": {
      "text/html": [
       "<div>\n",
       "<style scoped>\n",
       "    .dataframe tbody tr th:only-of-type {\n",
       "        vertical-align: middle;\n",
       "    }\n",
       "\n",
       "    .dataframe tbody tr th {\n",
       "        vertical-align: top;\n",
       "    }\n",
       "\n",
       "    .dataframe thead th {\n",
       "        text-align: right;\n",
       "    }\n",
       "</style>\n",
       "<table border=\"1\" class=\"dataframe\">\n",
       "  <thead>\n",
       "    <tr style=\"text-align: right;\">\n",
       "      <th></th>\n",
       "      <th>Glove</th>\n",
       "    </tr>\n",
       "  </thead>\n",
       "  <tbody>\n",
       "    <tr>\n",
       "      <th>LSTM</th>\n",
       "      <td>0.8626</td>\n",
       "    </tr>\n",
       "    <tr>\n",
       "      <th>GRU</th>\n",
       "      <td>0.8661</td>\n",
       "    </tr>\n",
       "    <tr>\n",
       "      <th>RNN + CNN</th>\n",
       "      <td>0.8335</td>\n",
       "    </tr>\n",
       "  </tbody>\n",
       "</table>\n",
       "</div>"
      ],
      "text/plain": [
       "            Glove\n",
       "LSTM       0.8626\n",
       "GRU        0.8661\n",
       "RNN + CNN  0.8335"
      ]
     },
     "execution_count": 20,
     "metadata": {},
     "output_type": "execute_result"
    }
   ],
   "source": [
    "tableau_comparatif=pd.DataFrame()\n",
    "tableau_comparatif.index = ['LSTM', 'GRU', 'RNN + CNN']\n",
    "tableau_comparatif['Glove']= [train_and_evaluate_LTSM_model(embedding_matrix_glove), train_and_evaluate_GRU_model(embedding_matrix_glove),  train_and_evaluate_RNN_CNN_model(embedding_matrix_glove)]\n",
    "tableau_comparatif"
   ]
  },
  {
   "cell_type": "code",
   "execution_count": 21,
   "id": "cb18133b",
   "metadata": {
    "scrolled": false
   },
   "outputs": [
    {
     "name": "stdout",
     "output_type": "stream",
     "text": [
      "Epoch 1/6\n",
      "250/250 [==============================] - 70s 273ms/step - loss: 0.4096 - acc: 0.8078 - val_loss: 0.3379 - val_acc: 0.8547\n",
      "Epoch 2/6\n",
      "250/250 [==============================] - 66s 265ms/step - loss: 0.2978 - acc: 0.8778 - val_loss: 0.3440 - val_acc: 0.8499\n",
      "Epoch 3/6\n",
      "250/250 [==============================] - 66s 265ms/step - loss: 0.2635 - acc: 0.8946 - val_loss: 0.3702 - val_acc: 0.8497\n",
      "Epoch 4/6\n",
      "250/250 [==============================] - 67s 269ms/step - loss: 0.2298 - acc: 0.9083 - val_loss: 0.3698 - val_acc: 0.8459\n",
      "Epoch 5/6\n",
      "250/250 [==============================] - 68s 273ms/step - loss: 0.2057 - acc: 0.9195 - val_loss: 0.4254 - val_acc: 0.8424\n",
      "Epoch 6/6\n",
      "250/250 [==============================] - 67s 267ms/step - loss: 0.1833 - acc: 0.9297 - val_loss: 0.4161 - val_acc: 0.8382\n",
      "313/313 [==============================] - 8s 24ms/step - loss: 0.4037 - acc: 0.8400\n",
      "Epoch 1/6\n",
      "250/250 [==============================] - 45s 163ms/step - loss: 0.4623 - acc: 0.7683 - val_loss: 0.3505 - val_acc: 0.8471\n",
      "Epoch 2/6\n",
      "250/250 [==============================] - 40s 161ms/step - loss: 0.3098 - acc: 0.8739 - val_loss: 0.3499 - val_acc: 0.8529\n",
      "Epoch 3/6\n",
      "250/250 [==============================] - 41s 163ms/step - loss: 0.2728 - acc: 0.8913 - val_loss: 0.3440 - val_acc: 0.8536\n",
      "Epoch 4/6\n",
      "250/250 [==============================] - 40s 162ms/step - loss: 0.2491 - acc: 0.9022 - val_loss: 0.3700 - val_acc: 0.8457\n",
      "Epoch 5/6\n",
      "250/250 [==============================] - 41s 164ms/step - loss: 0.2245 - acc: 0.9132 - val_loss: 0.3606 - val_acc: 0.8508\n",
      "Epoch 6/6\n",
      "250/250 [==============================] - 41s 165ms/step - loss: 0.1990 - acc: 0.9250 - val_loss: 0.3884 - val_acc: 0.8479\n",
      "313/313 [==============================] - 3s 9ms/step - loss: 0.3803 - acc: 0.8516\n",
      "Epoch 1/6\n",
      "250/250 [==============================] - 29s 113ms/step - loss: 0.6933 - accuracy: 0.5015 - val_loss: 0.6932 - val_accuracy: 0.5000\n",
      "Epoch 2/6\n",
      "250/250 [==============================] - 27s 110ms/step - loss: 0.6932 - accuracy: 0.5044 - val_loss: 0.6936 - val_accuracy: 0.5000\n",
      "Epoch 3/6\n",
      "250/250 [==============================] - 27s 110ms/step - loss: 0.6932 - accuracy: 0.5009 - val_loss: 0.6932 - val_accuracy: 0.5000\n",
      "Epoch 4/6\n",
      "250/250 [==============================] - 28s 112ms/step - loss: 0.6932 - accuracy: 0.4962 - val_loss: 0.6932 - val_accuracy: 0.5000\n",
      "Epoch 5/6\n",
      "250/250 [==============================] - 28s 112ms/step - loss: 0.6932 - accuracy: 0.4984 - val_loss: 0.6931 - val_accuracy: 0.5000\n",
      "Epoch 6/6\n",
      "250/250 [==============================] - 28s 113ms/step - loss: 0.6932 - accuracy: 0.4962 - val_loss: 0.6931 - val_accuracy: 0.5000\n",
      "313/313 [==============================] - 5s 15ms/step - loss: 0.6931 - accuracy: 0.5039\n"
     ]
    }
   ],
   "source": [
    "tableau_comparatif['Word2vec']=[train_and_evaluate_LTSM_model(embedding_matrix_w2v), train_and_evaluate_GRU_model(embedding_matrix_w2v),  train_and_evaluate_RNN_CNN_model(embedding_matrix_w2v)]"
   ]
  },
  {
   "cell_type": "code",
   "execution_count": 24,
   "id": "12a1f371",
   "metadata": {},
   "outputs": [
    {
     "name": "stdout",
     "output_type": "stream",
     "text": [
      "Epoch 1/6\n",
      "250/250 [==============================] - 71s 278ms/step - loss: 0.4172 - acc: 0.8045 - val_loss: 0.3468 - val_acc: 0.8528\n",
      "Epoch 2/6\n",
      "250/250 [==============================] - 68s 272ms/step - loss: 0.2990 - acc: 0.8799 - val_loss: 0.3568 - val_acc: 0.8470\n",
      "Epoch 3/6\n",
      "250/250 [==============================] - 69s 277ms/step - loss: 0.2607 - acc: 0.8946 - val_loss: 0.3454 - val_acc: 0.8545\n",
      "Epoch 4/6\n",
      "250/250 [==============================] - 75s 301ms/step - loss: 0.2312 - acc: 0.9092 - val_loss: 0.3658 - val_acc: 0.8508\n",
      "Epoch 5/6\n",
      "250/250 [==============================] - 73s 290ms/step - loss: 0.2006 - acc: 0.9228 - val_loss: 0.4670 - val_acc: 0.8391\n",
      "Epoch 6/6\n",
      "250/250 [==============================] - 70s 280ms/step - loss: 0.1824 - acc: 0.9296 - val_loss: 0.4269 - val_acc: 0.8439\n",
      "313/313 [==============================] - 9s 28ms/step - loss: 0.4109 - acc: 0.8473\n",
      "Epoch 1/6\n",
      "250/250 [==============================] - 42s 162ms/step - loss: 0.4676 - acc: 0.7640 - val_loss: 0.3439 - val_acc: 0.8522\n",
      "Epoch 2/6\n",
      "250/250 [==============================] - 41s 164ms/step - loss: 0.3001 - acc: 0.8752 - val_loss: 0.3406 - val_acc: 0.8516\n",
      "Epoch 3/6\n",
      "250/250 [==============================] - 41s 165ms/step - loss: 0.2633 - acc: 0.8948 - val_loss: 0.3732 - val_acc: 0.8475\n",
      "Epoch 4/6\n",
      "250/250 [==============================] - 41s 165ms/step - loss: 0.2255 - acc: 0.9138 - val_loss: 0.3749 - val_acc: 0.8508\n",
      "Epoch 5/6\n",
      "250/250 [==============================] - 42s 169ms/step - loss: 0.1934 - acc: 0.9262 - val_loss: 0.3938 - val_acc: 0.8547\n",
      "Epoch 6/6\n",
      "250/250 [==============================] - 41s 163ms/step - loss: 0.1651 - acc: 0.9392 - val_loss: 0.4228 - val_acc: 0.8486\n",
      "313/313 [==============================] - 3s 8ms/step - loss: 0.4036 - acc: 0.8555\n",
      "Epoch 1/6\n",
      "250/250 [==============================] - 36s 127ms/step - loss: 0.6929 - accuracy: 0.5069 - val_loss: 0.6924 - val_accuracy: 0.5006\n",
      "Epoch 2/6\n",
      "250/250 [==============================] - 32s 127ms/step - loss: 0.6917 - accuracy: 0.5141 - val_loss: 0.6912 - val_accuracy: 0.5010\n",
      "Epoch 3/6\n",
      "250/250 [==============================] - 32s 127ms/step - loss: 0.6895 - accuracy: 0.5274 - val_loss: 0.6901 - val_accuracy: 0.5897\n",
      "Epoch 4/6\n",
      "250/250 [==============================] - 32s 127ms/step - loss: 0.6879 - accuracy: 0.5431 - val_loss: 0.6831 - val_accuracy: 0.5570\n",
      "Epoch 5/6\n",
      "250/250 [==============================] - 32s 127ms/step - loss: 0.6841 - accuracy: 0.5676 - val_loss: 0.6828 - val_accuracy: 0.6044\n",
      "Epoch 6/6\n",
      "250/250 [==============================] - 32s 130ms/step - loss: 0.6502 - accuracy: 0.6263 - val_loss: 0.6695 - val_accuracy: 0.5997\n",
      "313/313 [==============================] - 6s 18ms/step - loss: 0.6646 - accuracy: 0.6072\n"
     ]
    },
    {
     "data": {
      "text/html": [
       "<div>\n",
       "<style scoped>\n",
       "    .dataframe tbody tr th:only-of-type {\n",
       "        vertical-align: middle;\n",
       "    }\n",
       "\n",
       "    .dataframe tbody tr th {\n",
       "        vertical-align: top;\n",
       "    }\n",
       "\n",
       "    .dataframe thead th {\n",
       "        text-align: right;\n",
       "    }\n",
       "</style>\n",
       "<table border=\"1\" class=\"dataframe\">\n",
       "  <thead>\n",
       "    <tr style=\"text-align: right;\">\n",
       "      <th></th>\n",
       "      <th>Glove</th>\n",
       "      <th>Word2vec</th>\n",
       "      <th>Fasttext</th>\n",
       "    </tr>\n",
       "  </thead>\n",
       "  <tbody>\n",
       "    <tr>\n",
       "      <th>LSTM</th>\n",
       "      <td>0.8626</td>\n",
       "      <td>0.8400</td>\n",
       "      <td>0.8473</td>\n",
       "    </tr>\n",
       "    <tr>\n",
       "      <th>GRU</th>\n",
       "      <td>0.8661</td>\n",
       "      <td>0.8516</td>\n",
       "      <td>0.8555</td>\n",
       "    </tr>\n",
       "    <tr>\n",
       "      <th>RNN + CNN</th>\n",
       "      <td>0.8335</td>\n",
       "      <td>0.5039</td>\n",
       "      <td>0.6072</td>\n",
       "    </tr>\n",
       "  </tbody>\n",
       "</table>\n",
       "</div>"
      ],
      "text/plain": [
       "            Glove  Word2vec  Fasttext\n",
       "LSTM       0.8626    0.8400    0.8473\n",
       "GRU        0.8661    0.8516    0.8555\n",
       "RNN + CNN  0.8335    0.5039    0.6072"
      ]
     },
     "execution_count": 24,
     "metadata": {},
     "output_type": "execute_result"
    }
   ],
   "source": [
    "tableau_comparatif['Fasttext']=[train_and_evaluate_LTSM_model(embedding_matrix_fasttext), train_and_evaluate_GRU_model(embedding_matrix_fasttext),  train_and_evaluate_RNN_CNN_model(embedding_matrix_fasttext)]\n",
    "tableau_comparatif"
   ]
  },
  {
   "cell_type": "code",
   "execution_count": 31,
   "id": "402bab8b",
   "metadata": {},
   "outputs": [
    {
     "name": "stdout",
     "output_type": "stream",
     "text": [
      "Epoch 1/6\n",
      "250/250 [==============================] - 79s 305ms/step - loss: 0.4124 - acc: 0.8071 - val_loss: 0.3630 - val_acc: 0.8470\n",
      "Epoch 2/6\n",
      "250/250 [==============================] - 73s 292ms/step - loss: 0.2993 - acc: 0.8765 - val_loss: 0.3546 - val_acc: 0.8509\n",
      "Epoch 3/6\n",
      "250/250 [==============================] - 76s 303ms/step - loss: 0.2620 - acc: 0.8941 - val_loss: 0.3518 - val_acc: 0.8510\n",
      "Epoch 4/6\n",
      "250/250 [==============================] - 73s 291ms/step - loss: 0.2249 - acc: 0.9119 - val_loss: 0.3964 - val_acc: 0.8482\n",
      "Epoch 5/6\n",
      "250/250 [==============================] - 72s 288ms/step - loss: 0.2048 - acc: 0.9196 - val_loss: 0.4040 - val_acc: 0.8447\n",
      "Epoch 6/6\n",
      "250/250 [==============================] - 73s 293ms/step - loss: 0.1777 - acc: 0.9321 - val_loss: 0.4577 - val_acc: 0.8335\n",
      "313/313 [==============================] - 9s 28ms/step - loss: 0.4454 - acc: 0.8372\n",
      "Epoch 1/6\n",
      "250/250 [==============================] - 43s 167ms/step - loss: 0.4554 - acc: 0.7726 - val_loss: 0.3547 - val_acc: 0.8447\n",
      "Epoch 2/6\n",
      "250/250 [==============================] - 43s 170ms/step - loss: 0.2987 - acc: 0.8781 - val_loss: 0.3462 - val_acc: 0.8531\n",
      "Epoch 3/6\n",
      "250/250 [==============================] - 41s 163ms/step - loss: 0.2640 - acc: 0.8953 - val_loss: 0.3450 - val_acc: 0.8559\n",
      "Epoch 4/6\n",
      "250/250 [==============================] - 41s 164ms/step - loss: 0.2349 - acc: 0.9077 - val_loss: 0.3754 - val_acc: 0.8501\n",
      "Epoch 5/6\n",
      "250/250 [==============================] - 42s 167ms/step - loss: 0.2034 - acc: 0.9224 - val_loss: 0.4172 - val_acc: 0.8453\n",
      "Epoch 6/6\n",
      "250/250 [==============================] - 41s 164ms/step - loss: 0.1845 - acc: 0.9309 - val_loss: 0.4127 - val_acc: 0.8456\n",
      "313/313 [==============================] - 3s 8ms/step - loss: 0.3943 - acc: 0.8513\n",
      "Epoch 1/6\n",
      "250/250 [==============================] - 32s 124ms/step - loss: 0.6933 - accuracy: 0.5013 - val_loss: 0.6932 - val_accuracy: 0.5000\n",
      "Epoch 2/6\n",
      "250/250 [==============================] - 29s 117ms/step - loss: 0.6932 - accuracy: 0.4970 - val_loss: 0.6932 - val_accuracy: 0.4999\n",
      "Epoch 3/6\n",
      "250/250 [==============================] - 31s 122ms/step - loss: 0.6932 - accuracy: 0.4996 - val_loss: 0.6934 - val_accuracy: 0.4999\n",
      "Epoch 4/6\n",
      "250/250 [==============================] - 31s 126ms/step - loss: 0.6931 - accuracy: 0.4977 - val_loss: 0.6932 - val_accuracy: 0.5000\n",
      "Epoch 5/6\n",
      "250/250 [==============================] - 30s 120ms/step - loss: 0.6931 - accuracy: 0.4983 - val_loss: 0.6935 - val_accuracy: 0.4997\n",
      "Epoch 6/6\n",
      "250/250 [==============================] - 31s 123ms/step - loss: 0.6932 - accuracy: 0.4964 - val_loss: 0.6932 - val_accuracy: 0.4997\n",
      "313/313 [==============================] - 4s 14ms/step - loss: 0.6935 - accuracy: 0.4961\n"
     ]
    },
    {
     "data": {
      "text/html": [
       "<div>\n",
       "<style scoped>\n",
       "    .dataframe tbody tr th:only-of-type {\n",
       "        vertical-align: middle;\n",
       "    }\n",
       "\n",
       "    .dataframe tbody tr th {\n",
       "        vertical-align: top;\n",
       "    }\n",
       "\n",
       "    .dataframe thead th {\n",
       "        text-align: right;\n",
       "    }\n",
       "</style>\n",
       "<table border=\"1\" class=\"dataframe\">\n",
       "  <thead>\n",
       "    <tr style=\"text-align: right;\">\n",
       "      <th></th>\n",
       "      <th>Glove</th>\n",
       "      <th>Word2vec</th>\n",
       "      <th>Fasttext</th>\n",
       "      <th>Tf-idf</th>\n",
       "    </tr>\n",
       "  </thead>\n",
       "  <tbody>\n",
       "    <tr>\n",
       "      <th>LSTM</th>\n",
       "      <td>0.8626</td>\n",
       "      <td>0.8400</td>\n",
       "      <td>0.8473</td>\n",
       "      <td>0.8372</td>\n",
       "    </tr>\n",
       "    <tr>\n",
       "      <th>GRU</th>\n",
       "      <td>0.8661</td>\n",
       "      <td>0.8516</td>\n",
       "      <td>0.8555</td>\n",
       "      <td>0.8513</td>\n",
       "    </tr>\n",
       "    <tr>\n",
       "      <th>RNN + CNN</th>\n",
       "      <td>0.8335</td>\n",
       "      <td>0.5039</td>\n",
       "      <td>0.6072</td>\n",
       "      <td>0.4961</td>\n",
       "    </tr>\n",
       "  </tbody>\n",
       "</table>\n",
       "</div>"
      ],
      "text/plain": [
       "            Glove  Word2vec  Fasttext  Tf-idf\n",
       "LSTM       0.8626    0.8400    0.8473  0.8372\n",
       "GRU        0.8661    0.8516    0.8555  0.8513\n",
       "RNN + CNN  0.8335    0.5039    0.6072  0.4961"
      ]
     },
     "execution_count": 31,
     "metadata": {},
     "output_type": "execute_result"
    }
   ],
   "source": [
    "tableau_comparatif['Tf-idf']=[train_and_evaluate_LTSM_model(embedding_matrix_tfidf), train_and_evaluate_GRU_model(embedding_matrix_tfidf),  train_and_evaluate_RNN_CNN_model(embedding_matrix_tfidf)]\n",
    "tableau_comparatif"
   ]
  },
  {
   "cell_type": "raw",
   "id": "d565d4a8",
   "metadata": {},
   "source": [
    "Les modèles utilisent différents types de représentations de mots : Glove, Word2vec, Fasttext et Tf-idf. Ces méthodes sont couramment utilisées pour transformer les mots en vecteurs numériques pour permettre l'utilisation de techniques de machine learning sur des données textuelles.\n",
    "\n",
    "Les résultats montrent que les modèles LSTM et GRU ont les scores de précision les plus élevés, avec des performances relativement similaires pour toutes les représentations de mots. Cela suggère que les deux types de réseaux de neurones récurrents sont bien adaptés à la tâche, indépendamment de la méthode de représentation de mots utilisée.\n",
    "\n",
    "En revanche, le modèle RNN + CNN a des scores de précision beaucoup plus bas, en particulier avec Word2vec et Tf-idf. Cela suggère que ce modèle est moins adapté à la tâche spécifique que les autres modèles évalués dans le tableau."
   ]
  },
  {
   "cell_type": "code",
   "execution_count": null,
   "id": "df6532e3",
   "metadata": {},
   "outputs": [],
   "source": []
  }
 ],
 "metadata": {
  "kernelspec": {
   "display_name": "Python 3 (ipykernel)",
   "language": "python",
   "name": "python3"
  },
  "language_info": {
   "codemirror_mode": {
    "name": "ipython",
    "version": 3
   },
   "file_extension": ".py",
   "mimetype": "text/x-python",
   "name": "python",
   "nbconvert_exporter": "python",
   "pygments_lexer": "ipython3",
   "version": "3.9.13"
  }
 },
 "nbformat": 4,
 "nbformat_minor": 5
}
