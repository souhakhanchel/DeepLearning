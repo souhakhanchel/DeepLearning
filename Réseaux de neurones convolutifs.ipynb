{
 "cells": [
  {
   "cell_type": "code",
   "execution_count": 1,
   "id": "8a3153a2",
   "metadata": {},
   "outputs": [],
   "source": [
    "import tensorflow as tf\n",
    "import keras as keras"
   ]
  },
  {
   "cell_type": "code",
   "execution_count": 2,
   "id": "50c8ca17",
   "metadata": {},
   "outputs": [],
   "source": [
    "import numpy as np\n",
    "from keras.datasets import mnist\n",
    "from keras.utils import np_utils\n",
    "from keras import backend as K\n",
    "K.set_image_data_format('channels_first')\n",
    "# fix random seed for reproducibility\n",
    "seed = 7\n",
    "np.random.seed(seed)\n",
    "from keras.models import Sequential\n",
    "from keras.layers import Dense\n",
    "from keras.layers import Dropout\n",
    "from keras.layers import Flatten\n",
    "from keras.layers.convolutional import Conv2D\n",
    "from keras.layers.convolutional import MaxPooling2D"
   ]
  },
  {
   "cell_type": "code",
   "execution_count": 3,
   "id": "ddac7e4a",
   "metadata": {},
   "outputs": [],
   "source": [
    "#load data\n",
    "(X_train, y_train),(X_test, y_test)= mnist.load_data()"
   ]
  },
  {
   "cell_type": "code",
   "execution_count": 4,
   "id": "7844778d",
   "metadata": {},
   "outputs": [
    {
     "name": "stdout",
     "output_type": "stream",
     "text": [
      "(60000, 28, 28)\n",
      "(60000,)\n"
     ]
    }
   ],
   "source": [
    "print(X_train.shape)\n",
    "print(y_train.shape)"
   ]
  },
  {
   "cell_type": "code",
   "execution_count": 5,
   "id": "48fb3127",
   "metadata": {},
   "outputs": [
    {
     "data": {
      "text/plain": [
       "10000"
      ]
     },
     "execution_count": 5,
     "metadata": {},
     "output_type": "execute_result"
    }
   ],
   "source": [
    "len(y_test)"
   ]
  },
  {
   "cell_type": "code",
   "execution_count": 6,
   "id": "3350ade1",
   "metadata": {},
   "outputs": [
    {
     "name": "stdout",
     "output_type": "stream",
     "text": [
      "4\n",
      "[[  0   0   0   0   0   0   0   0   0   0   0   0   0   0   0   0   0   0\n",
      "    0   0   0   0   0   0   0   0   0   0]\n",
      " [  0   0   0   0   0   0   0   0   0   0   0   0   0   0   0   0   0   0\n",
      "    0   0   0   0   0   0   0   0   0   0]\n",
      " [  0   0   0   0   0   0   0   0   0   0   0   0   0   0   0   0   0   0\n",
      "    0   0   0   0   0   0   0   0   0   0]\n",
      " [  0   0   0   0   0   0   0   0   0   0   0   0   0   0   0   0   0   0\n",
      "    0   0   0   0   0   0   0   0   0   0]\n",
      " [  0   0   0   0   0   0   0   0   0   0   0   0   0   0   0   0   0   0\n",
      "    0   0   0   0   0   0   0   0   0   0]\n",
      " [  0   0   0   0   0   0   0   0   0   0   0   0   0   0   0   0   0   0\n",
      "    0   0  67 232  39   0   0   0   0   0]\n",
      " [  0   0   0   0  62  81   0   0   0   0   0   0   0   0   0   0   0   0\n",
      "    0   0 120 180  39   0   0   0   0   0]\n",
      " [  0   0   0   0 126 163   0   0   0   0   0   0   0   0   0   0   0   0\n",
      "    0   2 153 210  40   0   0   0   0   0]\n",
      " [  0   0   0   0 220 163   0   0   0   0   0   0   0   0   0   0   0   0\n",
      "    0  27 254 162   0   0   0   0   0   0]\n",
      " [  0   0   0   0 222 163   0   0   0   0   0   0   0   0   0   0   0   0\n",
      "    0 183 254 125   0   0   0   0   0   0]\n",
      " [  0   0   0  46 245 163   0   0   0   0   0   0   0   0   0   0   0   0\n",
      "    0 198 254  56   0   0   0   0   0   0]\n",
      " [  0   0   0 120 254 163   0   0   0   0   0   0   0   0   0   0   0   0\n",
      "   23 231 254  29   0   0   0   0   0   0]\n",
      " [  0   0   0 159 254 120   0   0   0   0   0   0   0   0   0   0   0   0\n",
      "  163 254 216  16   0   0   0   0   0   0]\n",
      " [  0   0   0 159 254  67   0   0   0   0   0   0   0   0   0  14  86 178\n",
      "  248 254  91   0   0   0   0   0   0   0]\n",
      " [  0   0   0 159 254  85   0   0   0  47  49 116 144 150 241 243 234 179\n",
      "  241 252  40   0   0   0   0   0   0   0]\n",
      " [  0   0   0 150 253 237 207 207 207 253 254 250 240 198 143  91  28   5\n",
      "  233 250   0   0   0   0   0   0   0   0]\n",
      " [  0   0   0   0 119 177 177 177 177 177  98  56   0   0   0   0   0 102\n",
      "  254 220   0   0   0   0   0   0   0   0]\n",
      " [  0   0   0   0   0   0   0   0   0   0   0   0   0   0   0   0   0 169\n",
      "  254 137   0   0   0   0   0   0   0   0]\n",
      " [  0   0   0   0   0   0   0   0   0   0   0   0   0   0   0   0   0 169\n",
      "  254  57   0   0   0   0   0   0   0   0]\n",
      " [  0   0   0   0   0   0   0   0   0   0   0   0   0   0   0   0   0 169\n",
      "  254  57   0   0   0   0   0   0   0   0]\n",
      " [  0   0   0   0   0   0   0   0   0   0   0   0   0   0   0   0   0 169\n",
      "  255  94   0   0   0   0   0   0   0   0]\n",
      " [  0   0   0   0   0   0   0   0   0   0   0   0   0   0   0   0   0 169\n",
      "  254  96   0   0   0   0   0   0   0   0]\n",
      " [  0   0   0   0   0   0   0   0   0   0   0   0   0   0   0   0   0 169\n",
      "  254 153   0   0   0   0   0   0   0   0]\n",
      " [  0   0   0   0   0   0   0   0   0   0   0   0   0   0   0   0   0 169\n",
      "  255 153   0   0   0   0   0   0   0   0]\n",
      " [  0   0   0   0   0   0   0   0   0   0   0   0   0   0   0   0   0  96\n",
      "  254 153   0   0   0   0   0   0   0   0]\n",
      " [  0   0   0   0   0   0   0   0   0   0   0   0   0   0   0   0   0   0\n",
      "    0   0   0   0   0   0   0   0   0   0]\n",
      " [  0   0   0   0   0   0   0   0   0   0   0   0   0   0   0   0   0   0\n",
      "    0   0   0   0   0   0   0   0   0   0]\n",
      " [  0   0   0   0   0   0   0   0   0   0   0   0   0   0   0   0   0   0\n",
      "    0   0   0   0   0   0   0   0   0   0]]\n"
     ]
    }
   ],
   "source": [
    "print(y_train[2])\n",
    "print(X_train[2])"
   ]
  },
  {
   "cell_type": "code",
   "execution_count": 7,
   "id": "fa45311a",
   "metadata": {},
   "outputs": [],
   "source": [
    "# reshape to be [samples][pixels][width][height]\n",
    "X_train = X_train.reshape(X_train.shape[0], 1, 28,28).astype('float32')\n",
    "X_test = X_test.reshape(X_test.shape[0], 1, 28, 28).astype('float32')"
   ]
  },
  {
   "cell_type": "code",
   "execution_count": 8,
   "id": "86b0137b",
   "metadata": {},
   "outputs": [
    {
     "name": "stdout",
     "output_type": "stream",
     "text": [
      "[[[  0.   0.   0.   0.   0.   0.   0.   0.   0.   0.   0.   0.   0.   0.\n",
      "     0.   0.   0.   0.   0.   0.   0.   0.   0.   0.   0.   0.   0.   0.]\n",
      "  [  0.   0.   0.   0.   0.   0.   0.   0.   0.   0.   0.   0.   0.   0.\n",
      "     0.   0.   0.   0.   0.   0.   0.   0.   0.   0.   0.   0.   0.   0.]\n",
      "  [  0.   0.   0.   0.   0.   0.   0.   0.   0.   0.   0.   0.   0.   0.\n",
      "     0.   0.   0.   0.   0.   0.   0.   0.   0.   0.   0.   0.   0.   0.]\n",
      "  [  0.   0.   0.   0.   0.   0.   0.   0.   0.   0.   0.   0.   0.   0.\n",
      "     0.   0.   0.   0.   0.   0.   0.   0.   0.   0.   0.   0.   0.   0.]\n",
      "  [  0.   0.   0.   0.   0.   0.   0.   0.   0.   0.   0.   0.   0.   0.\n",
      "     0.   0.   0.   0.   0.   0.   0.   0.   0.   0.   0.   0.   0.   0.]\n",
      "  [  0.   0.   0.   0.   0.   0.   0.   0.   0.   0.   0.   0.   0.   0.\n",
      "     0.   0.   0.   0.   0.   0.  67. 232.  39.   0.   0.   0.   0.   0.]\n",
      "  [  0.   0.   0.   0.  62.  81.   0.   0.   0.   0.   0.   0.   0.   0.\n",
      "     0.   0.   0.   0.   0.   0. 120. 180.  39.   0.   0.   0.   0.   0.]\n",
      "  [  0.   0.   0.   0. 126. 163.   0.   0.   0.   0.   0.   0.   0.   0.\n",
      "     0.   0.   0.   0.   0.   2. 153. 210.  40.   0.   0.   0.   0.   0.]\n",
      "  [  0.   0.   0.   0. 220. 163.   0.   0.   0.   0.   0.   0.   0.   0.\n",
      "     0.   0.   0.   0.   0.  27. 254. 162.   0.   0.   0.   0.   0.   0.]\n",
      "  [  0.   0.   0.   0. 222. 163.   0.   0.   0.   0.   0.   0.   0.   0.\n",
      "     0.   0.   0.   0.   0. 183. 254. 125.   0.   0.   0.   0.   0.   0.]\n",
      "  [  0.   0.   0.  46. 245. 163.   0.   0.   0.   0.   0.   0.   0.   0.\n",
      "     0.   0.   0.   0.   0. 198. 254.  56.   0.   0.   0.   0.   0.   0.]\n",
      "  [  0.   0.   0. 120. 254. 163.   0.   0.   0.   0.   0.   0.   0.   0.\n",
      "     0.   0.   0.   0.  23. 231. 254.  29.   0.   0.   0.   0.   0.   0.]\n",
      "  [  0.   0.   0. 159. 254. 120.   0.   0.   0.   0.   0.   0.   0.   0.\n",
      "     0.   0.   0.   0. 163. 254. 216.  16.   0.   0.   0.   0.   0.   0.]\n",
      "  [  0.   0.   0. 159. 254.  67.   0.   0.   0.   0.   0.   0.   0.   0.\n",
      "     0.  14.  86. 178. 248. 254.  91.   0.   0.   0.   0.   0.   0.   0.]\n",
      "  [  0.   0.   0. 159. 254.  85.   0.   0.   0.  47.  49. 116. 144. 150.\n",
      "   241. 243. 234. 179. 241. 252.  40.   0.   0.   0.   0.   0.   0.   0.]\n",
      "  [  0.   0.   0. 150. 253. 237. 207. 207. 207. 253. 254. 250. 240. 198.\n",
      "   143.  91.  28.   5. 233. 250.   0.   0.   0.   0.   0.   0.   0.   0.]\n",
      "  [  0.   0.   0.   0. 119. 177. 177. 177. 177. 177.  98.  56.   0.   0.\n",
      "     0.   0.   0. 102. 254. 220.   0.   0.   0.   0.   0.   0.   0.   0.]\n",
      "  [  0.   0.   0.   0.   0.   0.   0.   0.   0.   0.   0.   0.   0.   0.\n",
      "     0.   0.   0. 169. 254. 137.   0.   0.   0.   0.   0.   0.   0.   0.]\n",
      "  [  0.   0.   0.   0.   0.   0.   0.   0.   0.   0.   0.   0.   0.   0.\n",
      "     0.   0.   0. 169. 254.  57.   0.   0.   0.   0.   0.   0.   0.   0.]\n",
      "  [  0.   0.   0.   0.   0.   0.   0.   0.   0.   0.   0.   0.   0.   0.\n",
      "     0.   0.   0. 169. 254.  57.   0.   0.   0.   0.   0.   0.   0.   0.]\n",
      "  [  0.   0.   0.   0.   0.   0.   0.   0.   0.   0.   0.   0.   0.   0.\n",
      "     0.   0.   0. 169. 255.  94.   0.   0.   0.   0.   0.   0.   0.   0.]\n",
      "  [  0.   0.   0.   0.   0.   0.   0.   0.   0.   0.   0.   0.   0.   0.\n",
      "     0.   0.   0. 169. 254.  96.   0.   0.   0.   0.   0.   0.   0.   0.]\n",
      "  [  0.   0.   0.   0.   0.   0.   0.   0.   0.   0.   0.   0.   0.   0.\n",
      "     0.   0.   0. 169. 254. 153.   0.   0.   0.   0.   0.   0.   0.   0.]\n",
      "  [  0.   0.   0.   0.   0.   0.   0.   0.   0.   0.   0.   0.   0.   0.\n",
      "     0.   0.   0. 169. 255. 153.   0.   0.   0.   0.   0.   0.   0.   0.]\n",
      "  [  0.   0.   0.   0.   0.   0.   0.   0.   0.   0.   0.   0.   0.   0.\n",
      "     0.   0.   0.  96. 254. 153.   0.   0.   0.   0.   0.   0.   0.   0.]\n",
      "  [  0.   0.   0.   0.   0.   0.   0.   0.   0.   0.   0.   0.   0.   0.\n",
      "     0.   0.   0.   0.   0.   0.   0.   0.   0.   0.   0.   0.   0.   0.]\n",
      "  [  0.   0.   0.   0.   0.   0.   0.   0.   0.   0.   0.   0.   0.   0.\n",
      "     0.   0.   0.   0.   0.   0.   0.   0.   0.   0.   0.   0.   0.   0.]\n",
      "  [  0.   0.   0.   0.   0.   0.   0.   0.   0.   0.   0.   0.   0.   0.\n",
      "     0.   0.   0.   0.   0.   0.   0.   0.   0.   0.   0.   0.   0.   0.]]]\n"
     ]
    }
   ],
   "source": [
    "print(X_train[2])"
   ]
  },
  {
   "cell_type": "code",
   "execution_count": 9,
   "id": "a729a672",
   "metadata": {},
   "outputs": [],
   "source": [
    "#one hot encode outputs\n",
    "y_train = np_utils.to_categorical(y_train)\n",
    "y_test = np_utils.to_categorical(y_test)\n",
    "num_classes = y_test.shape[1]"
   ]
  },
  {
   "cell_type": "code",
   "execution_count": 10,
   "id": "9319a458",
   "metadata": {},
   "outputs": [],
   "source": [
    "def small_model():\n",
    "    model = Sequential()\n",
    "    model.add(Conv2D(64, (3, 3), input_shape=(1, 28, 28),activation='relu'))\n",
    "    model.add(Conv2D(32, (3, 3), activation='relu'))\n",
    "    model.add(Flatten())\n",
    "    model.add(Dense(num_classes, activation='softmax'))\n",
    "    model.compile(loss='categorical_crossentropy',optimizer='adam',metrics=['accuracy'])\n",
    "    return model"
   ]
  },
  {
   "cell_type": "code",
   "execution_count": 11,
   "id": "2913ee3f",
   "metadata": {},
   "outputs": [],
   "source": [
    "model1=small_model()"
   ]
  },
  {
   "cell_type": "code",
   "execution_count": 12,
   "id": "e1d2f9a6",
   "metadata": {},
   "outputs": [
    {
     "name": "stdout",
     "output_type": "stream",
     "text": [
      "Epoch 1/10\n",
      "300/300 [==============================] - 106s 347ms/step - loss: 0.6166 - accuracy: 0.9365 - val_loss: 0.0732 - val_accuracy: 0.9776\n",
      "Epoch 2/10\n",
      "300/300 [==============================] - 103s 344ms/step - loss: 0.0578 - accuracy: 0.9820 - val_loss: 0.0734 - val_accuracy: 0.9790\n",
      "Epoch 3/10\n",
      "300/300 [==============================] - 102s 341ms/step - loss: 0.0389 - accuracy: 0.9877 - val_loss: 0.0848 - val_accuracy: 0.9751\n",
      "Epoch 4/10\n",
      "300/300 [==============================] - 102s 339ms/step - loss: 0.0274 - accuracy: 0.9909 - val_loss: 0.0771 - val_accuracy: 0.9785\n",
      "Epoch 5/10\n",
      "300/300 [==============================] - 104s 346ms/step - loss: 0.0230 - accuracy: 0.9922 - val_loss: 0.0894 - val_accuracy: 0.9758\n",
      "Epoch 6/10\n",
      "300/300 [==============================] - 101s 338ms/step - loss: 0.0229 - accuracy: 0.9926 - val_loss: 0.1013 - val_accuracy: 0.9776\n",
      "Epoch 7/10\n",
      "300/300 [==============================] - 102s 340ms/step - loss: 0.0170 - accuracy: 0.9941 - val_loss: 0.1061 - val_accuracy: 0.9778\n",
      "Epoch 8/10\n",
      "300/300 [==============================] - 76s 252ms/step - loss: 0.0163 - accuracy: 0.9951 - val_loss: 0.1058 - val_accuracy: 0.9790\n",
      "Epoch 9/10\n",
      "300/300 [==============================] - 59s 196ms/step - loss: 0.0131 - accuracy: 0.9955 - val_loss: 0.1418 - val_accuracy: 0.9781\n",
      "Epoch 10/10\n",
      "300/300 [==============================] - 60s 200ms/step - loss: 0.0160 - accuracy: 0.9949 - val_loss: 0.1221 - val_accuracy: 0.9771\n"
     ]
    },
    {
     "data": {
      "text/plain": [
       "<keras.callbacks.History at 0x2951d61f580>"
      ]
     },
     "execution_count": 12,
     "metadata": {},
     "output_type": "execute_result"
    }
   ],
   "source": [
    "model1.fit(X_train,y_train,validation_data=(X_test,y_test),epochs=10,batch_size=200)"
   ]
  },
  {
   "cell_type": "code",
   "execution_count": 13,
   "id": "6023d095",
   "metadata": {},
   "outputs": [],
   "source": [
    "def print_model_error_rate(model, X_test, y_test):\n",
    "    # Final evaluation of the model\n",
    "    scores = model.evaluate(X_test, y_test, verbose=0)\n",
    "    print(\"Model score : %.2f%%\" % (scores[1]*100))\n",
    "    print(\"Model error rate : %.2f%%\" % (100-scores[1]*100))"
   ]
  },
  {
   "cell_type": "code",
   "execution_count": 14,
   "id": "362a0346",
   "metadata": {},
   "outputs": [
    {
     "name": "stdout",
     "output_type": "stream",
     "text": [
      "Model score : 97.71%\n",
      "Model error rate : 2.29%\n"
     ]
    }
   ],
   "source": [
    "print_model_error_rate(model1, X_test, y_test)"
   ]
  },
  {
   "cell_type": "code",
   "execution_count": 15,
   "id": "2c2f79d1",
   "metadata": {},
   "outputs": [],
   "source": [
    "def get_prepare_data_mnist():\n",
    "    #load data\n",
    "    (X_train, y_train),(X_test, y_test)= mnist.load_data()\n",
    "    # reshape to be [samples][pixels][width][height]\n",
    "    X_train = X_train.reshape(X_train.shape[0], 1, 28,28).astype('float32')\n",
    "    X_test = X_test.reshape(X_test.shape[0], 1, 28, 28).astype('float32')\n",
    "    #normalisation\n",
    "    X_train=X_train/255\n",
    "    X_test=X_test/255\n",
    "    #one hot encode outputs\n",
    "    y_train = np_utils.to_categorical(y_train)\n",
    "    y_test = np_utils.to_categorical(y_test)\n",
    "    num_classes = y_test.shape[1]\n",
    "    return (X_train,y_train),(X_test,y_test),num_classes"
   ]
  },
  {
   "cell_type": "code",
   "execution_count": 16,
   "id": "b6a6b30d",
   "metadata": {},
   "outputs": [],
   "source": [
    "def medium_model():\n",
    "    model = Sequential()\n",
    "    model.add(Conv2D(32, (5, 5), input_shape=(1, 28, 28), activation='relu'))\n",
    "    model.add(MaxPooling2D(pool_size=(2,2)))\n",
    "    model.add(Dropout(0.2))\n",
    "    model.add(Flatten())\n",
    "    model.add(Dense(128, activation='relu'))\n",
    "    model.add(Dense(num_classes, activation='softmax'))\n",
    "    model.compile(loss='categorical_crossentropy',optimizer='adam',metrics=['accuracy'])\n",
    "    return model "
   ]
  },
  {
   "cell_type": "code",
   "execution_count": 17,
   "id": "cc5fbed3",
   "metadata": {},
   "outputs": [],
   "source": [
    "(X_train,y_train),(X_test,y_test),num_classes =get_prepare_data_mnist()"
   ]
  },
  {
   "cell_type": "code",
   "execution_count": 18,
   "id": "d66cda94",
   "metadata": {},
   "outputs": [],
   "source": [
    "model2=medium_model()"
   ]
  },
  {
   "cell_type": "code",
   "execution_count": 19,
   "id": "70867b6d",
   "metadata": {},
   "outputs": [
    {
     "name": "stdout",
     "output_type": "stream",
     "text": [
      "Epoch 1/10\n",
      "300/300 [==============================] - 15s 47ms/step - loss: 0.2482 - accuracy: 0.9288 - val_loss: 0.0867 - val_accuracy: 0.9755\n",
      "Epoch 2/10\n",
      "300/300 [==============================] - 13s 43ms/step - loss: 0.0773 - accuracy: 0.9766 - val_loss: 0.0546 - val_accuracy: 0.9832\n",
      "Epoch 3/10\n",
      "300/300 [==============================] - 14s 45ms/step - loss: 0.0534 - accuracy: 0.9838 - val_loss: 0.0429 - val_accuracy: 0.9855\n",
      "Epoch 4/10\n",
      "300/300 [==============================] - 13s 44ms/step - loss: 0.0419 - accuracy: 0.9869 - val_loss: 0.0385 - val_accuracy: 0.9878\n",
      "Epoch 5/10\n",
      "300/300 [==============================] - 13s 44ms/step - loss: 0.0340 - accuracy: 0.9894 - val_loss: 0.0341 - val_accuracy: 0.9874\n",
      "Epoch 6/10\n",
      "300/300 [==============================] - 14s 47ms/step - loss: 0.0274 - accuracy: 0.9912 - val_loss: 0.0353 - val_accuracy: 0.9888\n",
      "Epoch 7/10\n",
      "300/300 [==============================] - 14s 46ms/step - loss: 0.0227 - accuracy: 0.9928 - val_loss: 0.0305 - val_accuracy: 0.9900\n",
      "Epoch 8/10\n",
      "300/300 [==============================] - 15s 51ms/step - loss: 0.0183 - accuracy: 0.9941 - val_loss: 0.0319 - val_accuracy: 0.9894\n",
      "Epoch 9/10\n",
      "300/300 [==============================] - 13s 44ms/step - loss: 0.0171 - accuracy: 0.9944 - val_loss: 0.0326 - val_accuracy: 0.9889\n",
      "Epoch 10/10\n",
      "300/300 [==============================] - 14s 47ms/step - loss: 0.0133 - accuracy: 0.9956 - val_loss: 0.0316 - val_accuracy: 0.9897\n"
     ]
    },
    {
     "data": {
      "text/plain": [
       "<keras.callbacks.History at 0x2952803db70>"
      ]
     },
     "execution_count": 19,
     "metadata": {},
     "output_type": "execute_result"
    }
   ],
   "source": [
    "model2.fit(X_train,y_train,validation_data=(X_test,y_test),epochs=10,batch_size=200)"
   ]
  },
  {
   "cell_type": "code",
   "execution_count": 20,
   "id": "f77a73c6",
   "metadata": {},
   "outputs": [
    {
     "name": "stdout",
     "output_type": "stream",
     "text": [
      "Model score : 98.97%\n",
      "Model error rate : 1.03%\n"
     ]
    }
   ],
   "source": [
    "print_model_error_rate(model2, X_test, y_test)"
   ]
  },
  {
   "cell_type": "code",
   "execution_count": 21,
   "id": "4822359e",
   "metadata": {},
   "outputs": [],
   "source": [
    "def large_model():\n",
    "    model = Sequential()\n",
    "    model.add(Conv2D(30, (5, 5), input_shape=(1, 28, 28), activation='relu'))\n",
    "    model.add(MaxPooling2D(pool_size=(2,2)))\n",
    "    model.add(Conv2D(15, (3, 3), activation='relu'))\n",
    "    model.add(MaxPooling2D(pool_size=(2,2)))\n",
    "    model.add(Dropout(0.2))\n",
    "    model.add(Flatten())\n",
    "    model.add(Dense(128, activation='relu'))\n",
    "    model.add(Dense(50, activation='relu'))\n",
    "    model.add(Dense(num_classes, activation='softmax'))\n",
    "    model.compile(loss='categorical_crossentropy',optimizer='adam',metrics=['accuracy'])\n",
    "    return model "
   ]
  },
  {
   "cell_type": "code",
   "execution_count": 23,
   "id": "f2ca0f08",
   "metadata": {},
   "outputs": [],
   "source": [
    "model3=large_model()"
   ]
  },
  {
   "cell_type": "code",
   "execution_count": 24,
   "id": "610ccb7d",
   "metadata": {},
   "outputs": [
    {
     "name": "stdout",
     "output_type": "stream",
     "text": [
      "Epoch 1/10\n",
      "300/300 [==============================] - 16s 51ms/step - loss: 0.3921 - accuracy: 0.8753 - val_loss: 0.0842 - val_accuracy: 0.9732\n",
      "Epoch 2/10\n",
      "300/300 [==============================] - 15s 50ms/step - loss: 0.0970 - accuracy: 0.9706 - val_loss: 0.0493 - val_accuracy: 0.9844\n",
      "Epoch 3/10\n",
      "300/300 [==============================] - 15s 49ms/step - loss: 0.0692 - accuracy: 0.9784 - val_loss: 0.0429 - val_accuracy: 0.9867\n",
      "Epoch 4/10\n",
      "300/300 [==============================] - 15s 51ms/step - loss: 0.0559 - accuracy: 0.9828 - val_loss: 0.0337 - val_accuracy: 0.9894\n",
      "Epoch 5/10\n",
      "300/300 [==============================] - 15s 49ms/step - loss: 0.0482 - accuracy: 0.9851 - val_loss: 0.0335 - val_accuracy: 0.9891\n",
      "Epoch 6/10\n",
      "300/300 [==============================] - 15s 49ms/step - loss: 0.0409 - accuracy: 0.9871 - val_loss: 0.0329 - val_accuracy: 0.9889\n",
      "Epoch 7/10\n",
      "300/300 [==============================] - 15s 51ms/step - loss: 0.0367 - accuracy: 0.9880 - val_loss: 0.0310 - val_accuracy: 0.9903\n",
      "Epoch 8/10\n",
      "300/300 [==============================] - 16s 52ms/step - loss: 0.0325 - accuracy: 0.9895 - val_loss: 0.0308 - val_accuracy: 0.9909\n",
      "Epoch 9/10\n",
      "300/300 [==============================] - 14s 47ms/step - loss: 0.0312 - accuracy: 0.9898 - val_loss: 0.0261 - val_accuracy: 0.9923\n",
      "Epoch 10/10\n",
      "300/300 [==============================] - 16s 53ms/step - loss: 0.0279 - accuracy: 0.9910 - val_loss: 0.0261 - val_accuracy: 0.9920\n"
     ]
    },
    {
     "data": {
      "text/plain": [
       "<keras.callbacks.History at 0x295133b5960>"
      ]
     },
     "execution_count": 24,
     "metadata": {},
     "output_type": "execute_result"
    }
   ],
   "source": [
    "model3.fit(X_train,y_train,validation_data=(X_test,y_test),epochs=10,batch_size=200)"
   ]
  },
  {
   "cell_type": "code",
   "execution_count": 25,
   "id": "9eba4040",
   "metadata": {},
   "outputs": [
    {
     "name": "stdout",
     "output_type": "stream",
     "text": [
      "Model score : 99.20%\n",
      "Model error rate : 0.80%\n"
     ]
    }
   ],
   "source": [
    "print_model_error_rate(model3, X_test, y_test)"
   ]
  },
  {
   "cell_type": "code",
   "execution_count": null,
   "id": "2ae4e40b",
   "metadata": {},
   "outputs": [],
   "source": []
  }
 ],
 "metadata": {
  "kernelspec": {
   "display_name": "Python 3 (ipykernel)",
   "language": "python",
   "name": "python3"
  },
  "language_info": {
   "codemirror_mode": {
    "name": "ipython",
    "version": 3
   },
   "file_extension": ".py",
   "mimetype": "text/x-python",
   "name": "python",
   "nbconvert_exporter": "python",
   "pygments_lexer": "ipython3",
   "version": "3.10.9"
  }
 },
 "nbformat": 4,
 "nbformat_minor": 5
}
